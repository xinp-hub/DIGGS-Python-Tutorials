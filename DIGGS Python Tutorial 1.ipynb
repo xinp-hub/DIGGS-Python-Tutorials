{
 "cells": [
  {
   "cell_type": "markdown",
   "id": "automotive-apollo",
   "metadata": {},
   "source": [
    "# DIGGS Python Tutorial 1"
   ]
  },
  {
   "cell_type": "markdown",
   "id": "rental-pollution",
   "metadata": {},
   "source": [
    "Author: Xin Peng, PhD, PE\n",
    "\n",
    "Email: xin_peng@outlook.com"
   ]
  },
  {
   "cell_type": "markdown",
   "id": "shaped-printer",
   "metadata": {},
   "source": [
    "***"
   ]
  },
  {
   "cell_type": "markdown",
   "id": "initial-oliver",
   "metadata": {},
   "source": [
    "## Outline"
   ]
  },
  {
   "cell_type": "markdown",
   "id": "focal-marshall",
   "metadata": {},
   "source": [
    "1. Load the DIGGS Example File\n",
    "2. Read Root Properties/Children under \"DIGGS\" Element\n",
    "3. Define Namespaces in Python\n",
    "4. Retrieve Bolehole Information\n",
    "5. Retrieve Sampling Activity Information\n",
    "6. Retrieve Measurement Information\n",
    "7. Plot Measurement Data"
   ]
  },
  {
   "cell_type": "markdown",
   "id": "large-uncle",
   "metadata": {},
   "source": [
    "### 1. Load the DIGGS Example File"
   ]
  },
  {
   "cell_type": "markdown",
   "id": "retired-thanksgiving",
   "metadata": {},
   "source": [
    "A DIGGS file named \"**BH with Atterberg Limits.xml**\" is located in the same folder of this Jupyter Notebook script."
   ]
  },
  {
   "cell_type": "code",
   "execution_count": 1,
   "id": "compound-carnival",
   "metadata": {},
   "outputs": [],
   "source": [
    "# import an XML API from a standard Python Liberary to read xml file:\n",
    "import xml.etree.ElementTree as ET\n",
    "\n",
    "# Parse DIGGS file using the Python XML API:\n",
    "tree = ET.parse('DIGGS Example File 1.xml')\n",
    "root = tree.getroot()"
   ]
  },
  {
   "cell_type": "markdown",
   "id": "opening-latex",
   "metadata": {},
   "source": [
    "***"
   ]
  },
  {
   "cell_type": "markdown",
   "id": "determined-blowing",
   "metadata": {},
   "source": [
    "### 2. Read Root Properties/Children under \"DIGGS\" Element"
   ]
  },
  {
   "cell_type": "code",
   "execution_count": 2,
   "id": "equivalent-scott",
   "metadata": {},
   "outputs": [
    {
     "name": "stdout",
     "output_type": "stream",
     "text": [
      "{http://diggsml.org/schemas/2.5.a}documentInformation\n",
      "{http://diggsml.org/schemas/2.5.a}project\n",
      "{http://diggsml.org/schemas/2.5.a}samplingFeature\n",
      "{http://diggsml.org/schemas/2.5.a}samplingActivity\n",
      "{http://diggsml.org/schemas/2.5.a}samplingActivity\n",
      "{http://diggsml.org/schemas/2.5.a}samplingActivity\n",
      "{http://diggsml.org/schemas/2.5.a}samplingActivity\n",
      "{http://diggsml.org/schemas/2.5.a}samplingActivity\n",
      "{http://diggsml.org/schemas/2.5.a}samplingActivity\n",
      "{http://diggsml.org/schemas/2.5.a}samplingActivity\n",
      "{http://diggsml.org/schemas/2.5.a}sample\n",
      "{http://diggsml.org/schemas/2.5.a}sample\n",
      "{http://diggsml.org/schemas/2.5.a}sample\n",
      "{http://diggsml.org/schemas/2.5.a}sample\n",
      "{http://diggsml.org/schemas/2.5.a}sample\n",
      "{http://diggsml.org/schemas/2.5.a}sample\n",
      "{http://diggsml.org/schemas/2.5.a}sample\n",
      "{http://diggsml.org/schemas/2.5.a}sample\n",
      "{http://diggsml.org/schemas/2.5.a}measurement\n",
      "{http://diggsml.org/schemas/2.5.a}measurement\n",
      "{http://diggsml.org/schemas/2.5.a}measurement\n",
      "{http://diggsml.org/schemas/2.5.a}measurement\n",
      "{http://diggsml.org/schemas/2.5.a}measurement\n"
     ]
    }
   ],
   "source": [
    "# Use \"for\" loop to print the tags of all the root childen/objects:\n",
    "\n",
    "for child in root:\n",
    "    print(child.tag)"
   ]
  },
  {
   "cell_type": "markdown",
   "id": "hydraulic-legend",
   "metadata": {},
   "source": [
    "***"
   ]
  },
  {
   "cell_type": "markdown",
   "id": "wrong-boston",
   "metadata": {},
   "source": [
    "### 3. Define XML Namespaces in Python"
   ]
  },
  {
   "cell_type": "markdown",
   "id": "natural-andorra",
   "metadata": {},
   "source": [
    "An XML instance may contain element or attribute names from more than one XML vocabulary.\n",
    "XML namespaces are used for providing uniquely named elements and attributes in an XML document."
   ]
  },
  {
   "cell_type": "code",
   "execution_count": 3,
   "id": "binding-edition",
   "metadata": {},
   "outputs": [],
   "source": [
    "ns = {'xmlns': 'http://diggsml.org/schemas/2.5.a', 'gml': 'http://www.opengis.net/gml/3.2', 'xlink': 'http://www.w3.org/1999/xlink'}"
   ]
  },
  {
   "cell_type": "markdown",
   "id": "overhead-angola",
   "metadata": {},
   "source": [
    "***"
   ]
  },
  {
   "cell_type": "markdown",
   "id": "laden-suspension",
   "metadata": {},
   "source": [
    "### 4. Retrieve Bolehole Information in \"SamplingFeature\""
   ]
  },
  {
   "cell_type": "code",
   "execution_count": 4,
   "id": "connected-malawi",
   "metadata": {},
   "outputs": [
    {
     "name": "stdout",
     "output_type": "stream",
     "text": [
      "B-01\n"
     ]
    }
   ],
   "source": [
    "# Use \"for\" loop to find and print names of all the boreholes:\n",
    "\n",
    "for borehole in root.findall('.//xmlns:Borehole', ns):\n",
    "    borehole_name = borehole.find('gml:name', ns).text\n",
    "    print(borehole_name)"
   ]
  },
  {
   "cell_type": "markdown",
   "id": "secret-sunrise",
   "metadata": {},
   "source": [
    "As can be seen, we have one borehole called \"**B-01**\" in this demo DIGGS file."
   ]
  },
  {
   "cell_type": "markdown",
   "id": "variable-happiness",
   "metadata": {},
   "source": [
    "***"
   ]
  },
  {
   "cell_type": "markdown",
   "id": "driving-transition",
   "metadata": {},
   "source": [
    "### 5. Retrieve Sampling Activity Information"
   ]
  },
  {
   "cell_type": "markdown",
   "id": "naval-cancellation",
   "metadata": {},
   "source": [
    "#### 5.1 Retrieve Sample Names in \"SamplingActivity\""
   ]
  },
  {
   "cell_type": "code",
   "execution_count": 5,
   "id": "southwest-duplicate",
   "metadata": {},
   "outputs": [
    {
     "name": "stdout",
     "output_type": "stream",
     "text": [
      "['C-2', 'C-3', 'C-4', 'C-7', 'C-8', 'C-9', 'C-10']\n"
     ]
    }
   ],
   "source": [
    "# Define a empty list to store all the sample IDs:\n",
    "\n",
    "sample_ID_list = []\n",
    "\n",
    "# Use \"for\" loop to find and append all the sample IDs to the predefined Sample ID list:\n",
    "\n",
    "for sample in root.findall('.//xmlns:SamplingActivity', ns):\n",
    "    sample_ID = sample.find('gml:name', ns).text\n",
    "    sample_ID_list.append(sample_ID)\n",
    "\n",
    "# Print the Sample ID list:\n",
    "print(sample_ID_list)"
   ]
  },
  {
   "cell_type": "markdown",
   "id": "monthly-sympathy",
   "metadata": {
    "tags": []
   },
   "source": [
    "As can be seen, we have 7 sampling activities named in this demo DIGGS file."
   ]
  },
  {
   "cell_type": "markdown",
   "id": "banner-chapel",
   "metadata": {},
   "source": [
    "***"
   ]
  },
  {
   "cell_type": "markdown",
   "id": "faced-physiology",
   "metadata": {},
   "source": [
    "#### 5.2. Retrieve location of each Sampling Activity , i.e. top and bottom depths in Borehole"
   ]
  },
  {
   "cell_type": "code",
   "execution_count": 6,
   "id": "pleasant-gothic",
   "metadata": {
    "tags": []
   },
   "outputs": [
    {
     "name": "stdout",
     "output_type": "stream",
     "text": [
      "[2.0, 4.0, 6.0, 12.0, 14.0, 16.0, 18.0]\n",
      "[4.0, 6.0, 8.0, 14.0, 16.0, 18.0, 20.0]\n"
     ]
    }
   ],
   "source": [
    "# Define two empty lists to store top and bottom depths of all the samples:\n",
    "\n",
    "sample_depth_top = []\n",
    "sample_depth_bottom = []\n",
    "\n",
    "# Use \"for\" loop to find the depths values of all the samples:\n",
    "\n",
    "for sample_depth in root.findall('.//xmlns:SamplingActivity', ns):\n",
    "    sample_depth_value = sample_depth.find('.//gml:posList', ns).text\n",
    "    # print(sample_depth_value)\n",
    "    \n",
    "# Split the depth information for each sample and convert them to float numbers:\n",
    "\n",
    "    sample_depth_top.append(float(sample_depth_value.split(\" \")[0]))\n",
    "    sample_depth_bottom.append(float(sample_depth_value.split(\" \")[1]))\n",
    "\n",
    "# Print the Sample Top and Bottom Depths:\n",
    "\n",
    "print(sample_depth_top)\n",
    "print(sample_depth_bottom)\n",
    "    "
   ]
  },
  {
   "cell_type": "markdown",
   "id": "defensive-voice",
   "metadata": {
    "tags": []
   },
   "source": [
    "The first list includes alll the top depth values of all the sampling activities.<br> The second list includes alll the bottom depth values of all the sampling activities"
   ]
  },
  {
   "cell_type": "markdown",
   "id": "prerequisite-possession",
   "metadata": {},
   "source": [
    "***"
   ]
  },
  {
   "cell_type": "markdown",
   "id": "naked-significance",
   "metadata": {},
   "source": [
    "### 6. Retrieve Measurement Information"
   ]
  },
  {
   "cell_type": "markdown",
   "id": "generic-integer",
   "metadata": {},
   "source": [
    "#### 6.1 Retrieve Test names in all Measurements"
   ]
  },
  {
   "cell_type": "code",
   "execution_count": 7,
   "id": "arbitrary-keeping",
   "metadata": {
    "jupyter": {
     "source_hidden": true
    },
    "tags": []
   },
   "outputs": [
    {
     "name": "stdout",
     "output_type": "stream",
     "text": [
      "ATTERBERG\n",
      "ATTERBERG\n",
      "ATTERBERG\n",
      "ATTERBERG\n",
      "ATTERBERG\n"
     ]
    }
   ],
   "source": [
    "# Use \"for\" loop to find and print all Test names:\n",
    "\n",
    "for measurement in root.findall('.//xmlns:Test', ns):\n",
    "    test_name = measurement.find('gml:name', ns).text\n",
    "    print(test_name)"
   ]
  },
  {
   "cell_type": "markdown",
   "id": "satisfied-throat",
   "metadata": {
    "tags": []
   },
   "source": [
    "As can be seen, we have 5 measurments related to ATTERBERG tests in this demo DIGGS file."
   ]
  },
  {
   "cell_type": "markdown",
   "id": "drawn-delay",
   "metadata": {},
   "source": [
    "***"
   ]
  },
  {
   "cell_type": "markdown",
   "id": "innocent-lighter",
   "metadata": {},
   "source": [
    "#### 6.2 Retrieve the 1D location (i.e. depth) in the borehole for all Measurements (i.e. ATTERBERG)"
   ]
  },
  {
   "cell_type": "code",
   "execution_count": 8,
   "id": "embedded-voluntary",
   "metadata": {},
   "outputs": [
    {
     "name": "stdout",
     "output_type": "stream",
     "text": [
      "[4.0, 6.0, 12.0, 14.0, 16.0]\n"
     ]
    }
   ],
   "source": [
    "# Define a empty list to store the depth location values for all Test measurements:\n",
    "\n",
    "Atterberg_measurement_depth = []\n",
    "\n",
    "# Use \"for\" loop to find and append the depth location values for all Test measurements to the predefined list:\n",
    "\n",
    "for measurement in root.findall('.//xmlns:Test', ns):\n",
    "    measurement_depth_value = measurement.find('.//gml:posList', ns).text\n",
    "    Atterberg_measurement_depth.append(float(measurement_depth_value))\n",
    "print(Atterberg_measurement_depth)\n"
   ]
  },
  {
   "cell_type": "markdown",
   "id": "downtown-volunteer",
   "metadata": {},
   "source": [
    "***"
   ]
  },
  {
   "cell_type": "markdown",
   "id": "residential-circle",
   "metadata": {},
   "source": [
    "#### 6.3 Retrieve corresponding test data values for all Measurements (i.e. ATTERBERG)"
   ]
  },
  {
   "cell_type": "code",
   "execution_count": 9,
   "id": "virtual-grade",
   "metadata": {},
   "outputs": [
    {
     "name": "stdout",
     "output_type": "stream",
     "text": [
      "[44, 16, 36, 51, 48]\n",
      "[14, 14, 13, 17, 22]\n"
     ]
    }
   ],
   "source": [
    "# Define two empty lists to store all LL and PL measurements:\n",
    "liquid_limit_data = []\n",
    "plastic_limit_data = []\n",
    "\n",
    "# Split the ATTERBERG measurements and convert them to integers:\n",
    "for measurement in root.findall('.//xmlns:Test', ns):\n",
    "    Atterberg_values = measurement.find('.//xmlns:dataValues', ns).text\n",
    "    # print(Atterberg_values)\n",
    "    liquid_limit_data.append(int(Atterberg_values.split(\" \")[0]))\n",
    "    plastic_limit_data.append(int(Atterberg_values.split(\" \")[1]))\n",
    "\n",
    "# Print LL and PL measurements:    \n",
    "print(liquid_limit_data)\n",
    "print(plastic_limit_data)\n"
   ]
  },
  {
   "cell_type": "markdown",
   "id": "general-packing",
   "metadata": {},
   "source": [
    "***"
   ]
  },
  {
   "cell_type": "markdown",
   "id": "equivalent-hierarchy",
   "metadata": {},
   "source": [
    "### 7. Plot  Measurement Data"
   ]
  },
  {
   "cell_type": "code",
   "execution_count": 10,
   "id": "secret-france",
   "metadata": {},
   "outputs": [
    {
     "data": {
      "image/png": "[encoded data removed]",
      "text/plain": [
       "<Figure size 432x288 with 1 Axes>"
      ]
     },
     "metadata": {
      "needs_background": "light"
     },
     "output_type": "display_data"
    }
   ],
   "source": [
    "# Import a plotting module from a Python Liberary:\n",
    "import matplotlib.pyplot as plt\n",
    "\n",
    "# Plot Liquid Limit vs Depth with red circles:\n",
    "plt.plot(liquid_limit_data, Atterberg_measurement_depth, 'ro', label=\"Liquid Limit\")\n",
    "\n",
    "# Plot Plastic Limit  vs Depth with blue squares:\n",
    "plt.plot(plastic_limit_data, Atterberg_measurement_depth, 'bs', label=\"Plastic Limit\")\n",
    "\n",
    "# Style the plot:\n",
    "plt.xlabel('Atterberg Limits')\n",
    "plt.ylabel('Depth')\n",
    "plt.grid(True)\n",
    "plt.title(borehole_name)\n",
    "plt.gca().invert_yaxis()\n",
    "plt.legend(loc=\"center right\")\n",
    "plt.show()\n"
   ]
  },
  {
   "cell_type": "markdown",
   "id": "b5e25a2c-f2ce-4708-a6b4-19a82f838788",
   "metadata": {},
   "source": [
    "***"
   ]
  },
  {
   "cell_type": "markdown",
   "id": "42262423-bc7b-4c94-8374-490639ba3e82",
   "metadata": {},
   "source": [
    "License: Attribution-ShareAlike 4.0 International (CC BY-SA 4.0)\n",
    "You are free to Share (copy and redistribute the material in any medium or format) and Adapt (remix, transform, and build upon the material for any purpose, even commercially), under the following terms: Attribution — You must give appropriate credit, provide a link to the license, and indicate if changes were made. You may do so in any reasonable manner, but not in any way that suggests the licensor endorses you or your use. ShareAlike — If you remix, transform, or build upon the material, you must distribute your contributions under the same license as the original. More details [here](https://creativecommons.org/licenses/by-sa/4.0/)."
   ]
  }
 ],
 "metadata": {
  "kernelspec": {
   "display_name": "Python 3",
   "language": "python",
   "name": "python3"
  },
  "language_info": {
   "codemirror_mode": {
    "name": "ipython",
    "version": 3
   },
   "file_extension": ".py",
   "mimetype": "text/x-python",
   "name": "python",
   "nbconvert_exporter": "python",
   "pygments_lexer": "ipython3",
   "version": "3.7.10"
  }
 },
 "nbformat": 4,
 "nbformat_minor": 5
}
